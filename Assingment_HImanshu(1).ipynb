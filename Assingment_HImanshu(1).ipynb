{
 "cells": [
  {
   "cell_type": "code",
   "execution_count": null,
   "metadata": {},
   "outputs": [
    {
     "name": "stdout",
     "output_type": "stream",
     "text": [
      " * Serving Flask app \"__main__\" (lazy loading)\n",
      " * Environment: production\n",
      "   WARNING: This is a development server. Do not use it in a production deployment.\n",
      "   Use a production WSGI server instead.\n",
      " * Debug mode: off\n"
     ]
    },
    {
     "name": "stderr",
     "output_type": "stream",
     "text": [
      " * Running on http://127.0.0.1:5000/ (Press CTRL+C to quit)\n"
     ]
    }
   ],
   "source": [
    "from flask import Flask\n",
    "from flask_restful import Resource, Api, reqparse\n",
    "app = Flask(__name__)\n",
    "api = Api(app)\n",
    "\n",
    "STUDENTS = {\n",
    "  '1': {'first_name': 'Himanshu','last_name': 'Dhiman', 'amount_due': 2300, 'DOB': '20-08-1992'},\n",
    "  '2': {'first_name': 'Shubi','last_name': 'jaggi', 'amount_due': 2000, 'DOB': '21-3-1990'},\n",
    "  '3': {'first_name': 'ashu','last_name': 'singh', 'amount_due': 3000, 'DOB': '27-11-1992'},\n",
    "}\n",
    "parser = reqparse.RequestParser()\n",
    "\n",
    "class StudentsList(Resource):\n",
    "    def get(self):\n",
    "        return STUDENTS\n",
    "\n",
    "    def post(self):\n",
    "        parser.add_argument(\"first_name\")\n",
    "        parser.add_argument(\"last_name\")\n",
    "        parser.add_argument(\"amount_due\")\n",
    "        parser.add_argument(\"DOB\")\n",
    "        args = parser.parse_args()\n",
    "        student_id = int(max(STUDENTS.keys())) + 1\n",
    "        student_id = '%i' % student_id\n",
    "        STUDENTS[student_id] = {\n",
    "            \"first_name\": args[\"first_name\"],\n",
    "            \"last_name\": args[\"last_name\"],\n",
    "            \"amount_due\": args[\"amount_due\"],\n",
    "            \"DOB\": args[\"DOB\"],\n",
    "        }\n",
    "        return STUDENTS[student_id], 201\n",
    "\n",
    "class Student(Resource):\n",
    "    def get(self, student_id):\n",
    "        if student_id not in STUDENTS:\n",
    "            return \"Not found\", 404\n",
    "        else:\n",
    "            return STUDENTS[student_id]\n",
    "\n",
    "    def put(self, student_id):\n",
    "        parser.add_argument(\"first_name\")\n",
    "        parser.add_argument(\"last_name\")\n",
    "        parser.add_argument(\"amount_due\")\n",
    "        parser.add_argument(\"DOB\")\n",
    "        args = parser.parse_args()\n",
    "        if student_id not in STUDENTS:\n",
    "            return \"Record not found\", 404\n",
    "        else:\n",
    "            student = STUDENTS[student_id]\n",
    "            student[\"first_name\"] = args[\"first_name\"] if args[\"first_name\"] is not None else student[\"first_name\"]\n",
    "            student[\"last_name\"] = args[\"last_name\"] if args[\"last_name\"] is not None else student[\"last_name\"]\n",
    "            student[\"amount_due\"] = args[\"amount_due\"] if args[\"amount_due\"] is not None else student[\"amount_due\"]\n",
    "            student[\"DOB\"] = args[\"DOB\"] if args[\"DOB\"] is not None else student[\"DOB\"]\n",
    "            return student, 200\n",
    "        \n",
    "    def delete(self, student_id):\n",
    "        if student_id not in STUDENTS:\n",
    "            return \"Not found\", 404\n",
    "        else:\n",
    "            del STUDENTS[student_id]\n",
    "        \n",
    "        return '', 204\n",
    "\n",
    "api.add_resource(StudentsList, '/students/')\n",
    "api.add_resource(Student, '/students/<student_id>')\n",
    "if __name__ == \"__main__\":\n",
    "    app.run(debug=False)"
   ]
  },
  {
   "cell_type": "code",
   "execution_count": null,
   "metadata": {},
   "outputs": [],
   "source": []
  }
 ],
 "metadata": {
  "kernelspec": {
   "display_name": "Python 3",
   "language": "python",
   "name": "python3"
  },
  "language_info": {
   "codemirror_mode": {
    "name": "ipython",
    "version": 3
   },
   "file_extension": ".py",
   "mimetype": "text/x-python",
   "name": "python",
   "nbconvert_exporter": "python",
   "pygments_lexer": "ipython3",
   "version": "3.7.3"
  }
 },
 "nbformat": 4,
 "nbformat_minor": 2
}
